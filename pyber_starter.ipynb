{
 "cells": [
  {
   "cell_type": "markdown",
   "metadata": {},
   "source": [
    "---\n",
    "Data analysis\n",
    "---\n",
    "1. There is a negative correlation between total number of rides and average fare. \n",
    "\n",
    "2. The urban sector has the majority of drivers (80.9%), and the rural sector has the highest average fare per city. \n",
    "\n",
    "3. When we look at percent total fares by sector, we see that the majority of fares are in urban areas. "
   ]
  },
  {
   "cell_type": "code",
   "execution_count": 31,
   "metadata": {},
   "outputs": [
    {
     "data": {
      "text/html": [
       "<div>\n",
       "<style scoped>\n",
       "    .dataframe tbody tr th:only-of-type {\n",
       "        vertical-align: middle;\n",
       "    }\n",
       "\n",
       "    .dataframe tbody tr th {\n",
       "        vertical-align: top;\n",
       "    }\n",
       "\n",
       "    .dataframe thead th {\n",
       "        text-align: right;\n",
       "    }\n",
       "</style>\n",
       "<table border=\"1\" class=\"dataframe\">\n",
       "  <thead>\n",
       "    <tr style=\"text-align: right;\">\n",
       "      <th></th>\n",
       "      <th>city</th>\n",
       "      <th>date</th>\n",
       "      <th>fare</th>\n",
       "      <th>ride_id</th>\n",
       "      <th>driver_count</th>\n",
       "      <th>type</th>\n",
       "    </tr>\n",
       "  </thead>\n",
       "  <tbody>\n",
       "    <tr>\n",
       "      <th>0</th>\n",
       "      <td>Lake Jonathanshire</td>\n",
       "      <td>2018-01-14 10:14:22</td>\n",
       "      <td>13.83</td>\n",
       "      <td>5739410935873</td>\n",
       "      <td>5</td>\n",
       "      <td>Urban</td>\n",
       "    </tr>\n",
       "    <tr>\n",
       "      <th>1</th>\n",
       "      <td>South Michelleport</td>\n",
       "      <td>2018-03-04 18:24:09</td>\n",
       "      <td>30.24</td>\n",
       "      <td>2343912425577</td>\n",
       "      <td>72</td>\n",
       "      <td>Urban</td>\n",
       "    </tr>\n",
       "    <tr>\n",
       "      <th>2</th>\n",
       "      <td>Port Samanthamouth</td>\n",
       "      <td>2018-02-24 04:29:00</td>\n",
       "      <td>33.44</td>\n",
       "      <td>2005065760003</td>\n",
       "      <td>57</td>\n",
       "      <td>Urban</td>\n",
       "    </tr>\n",
       "    <tr>\n",
       "      <th>3</th>\n",
       "      <td>Rodneyfort</td>\n",
       "      <td>2018-02-10 23:22:03</td>\n",
       "      <td>23.44</td>\n",
       "      <td>5149245426178</td>\n",
       "      <td>34</td>\n",
       "      <td>Urban</td>\n",
       "    </tr>\n",
       "    <tr>\n",
       "      <th>4</th>\n",
       "      <td>South Jack</td>\n",
       "      <td>2018-03-06 04:28:35</td>\n",
       "      <td>34.58</td>\n",
       "      <td>3908451377344</td>\n",
       "      <td>46</td>\n",
       "      <td>Urban</td>\n",
       "    </tr>\n",
       "  </tbody>\n",
       "</table>\n",
       "</div>"
      ],
      "text/plain": [
       "                 city                 date   fare        ride_id  \\\n",
       "0  Lake Jonathanshire  2018-01-14 10:14:22  13.83  5739410935873   \n",
       "1  South Michelleport  2018-03-04 18:24:09  30.24  2343912425577   \n",
       "2  Port Samanthamouth  2018-02-24 04:29:00  33.44  2005065760003   \n",
       "3          Rodneyfort  2018-02-10 23:22:03  23.44  5149245426178   \n",
       "4          South Jack  2018-03-06 04:28:35  34.58  3908451377344   \n",
       "\n",
       "   driver_count   type  \n",
       "0             5  Urban  \n",
       "1            72  Urban  \n",
       "2            57  Urban  \n",
       "3            34  Urban  \n",
       "4            46  Urban  "
      ]
     },
     "execution_count": 31,
     "metadata": {},
     "output_type": "execute_result"
    }
   ],
   "source": [
    "%matplotlib inline\n",
    "\n",
    "# Dependencies and Setup\n",
    "import matplotlib.pyplot as plt\n",
    "import pandas as pd\n",
    "import numpy as np\n",
    "\n",
    "# File to Load (Remember to change these)\n",
    "city_data_to_load = \"data/city_data.csv\"\n",
    "ride_data_to_load = \"data/ride_data.csv\"\n",
    "\n",
    "# Read the City and Ride Data\n",
    "city_data  = pd.read_csv(city_data_to_load)\n",
    "ride_data = pd.read_csv(ride_data_to_load)\n",
    "\n",
    "# Combine the data into a single dataset\n",
    "combined_df = pd.merge(ride_data, city_data, how=\"left\",on=\"city\")\n",
    "\n",
    "# Display the data table for preview\n",
    "combined_df.head()"
   ]
  },
  {
   "cell_type": "code",
   "execution_count": 2,
   "metadata": {},
   "outputs": [
    {
     "data": {
      "text/html": [
       "<div>\n",
       "<style scoped>\n",
       "    .dataframe tbody tr th:only-of-type {\n",
       "        vertical-align: middle;\n",
       "    }\n",
       "\n",
       "    .dataframe tbody tr th {\n",
       "        vertical-align: top;\n",
       "    }\n",
       "\n",
       "    .dataframe thead th {\n",
       "        text-align: right;\n",
       "    }\n",
       "</style>\n",
       "<table border=\"1\" class=\"dataframe\">\n",
       "  <thead>\n",
       "    <tr style=\"text-align: right;\">\n",
       "      <th></th>\n",
       "      <th>city</th>\n",
       "      <th>date</th>\n",
       "      <th>fare</th>\n",
       "      <th>ride_id</th>\n",
       "      <th>driver_count</th>\n",
       "      <th>type</th>\n",
       "    </tr>\n",
       "  </thead>\n",
       "  <tbody>\n",
       "    <tr>\n",
       "      <th>0</th>\n",
       "      <td>Lake Jonathanshire</td>\n",
       "      <td>2018-01-14 10:14:22</td>\n",
       "      <td>13.83</td>\n",
       "      <td>5739410935873</td>\n",
       "      <td>5</td>\n",
       "      <td>Urban</td>\n",
       "    </tr>\n",
       "    <tr>\n",
       "      <th>1</th>\n",
       "      <td>South Michelleport</td>\n",
       "      <td>2018-03-04 18:24:09</td>\n",
       "      <td>30.24</td>\n",
       "      <td>2343912425577</td>\n",
       "      <td>72</td>\n",
       "      <td>Urban</td>\n",
       "    </tr>\n",
       "    <tr>\n",
       "      <th>2</th>\n",
       "      <td>Port Samanthamouth</td>\n",
       "      <td>2018-02-24 04:29:00</td>\n",
       "      <td>33.44</td>\n",
       "      <td>2005065760003</td>\n",
       "      <td>57</td>\n",
       "      <td>Urban</td>\n",
       "    </tr>\n",
       "    <tr>\n",
       "      <th>3</th>\n",
       "      <td>Rodneyfort</td>\n",
       "      <td>2018-02-10 23:22:03</td>\n",
       "      <td>23.44</td>\n",
       "      <td>5149245426178</td>\n",
       "      <td>34</td>\n",
       "      <td>Urban</td>\n",
       "    </tr>\n",
       "    <tr>\n",
       "      <th>4</th>\n",
       "      <td>South Jack</td>\n",
       "      <td>2018-03-06 04:28:35</td>\n",
       "      <td>34.58</td>\n",
       "      <td>3908451377344</td>\n",
       "      <td>46</td>\n",
       "      <td>Urban</td>\n",
       "    </tr>\n",
       "  </tbody>\n",
       "</table>\n",
       "</div>"
      ],
      "text/plain": [
       "                 city                 date   fare        ride_id  \\\n",
       "0  Lake Jonathanshire  2018-01-14 10:14:22  13.83  5739410935873   \n",
       "1  South Michelleport  2018-03-04 18:24:09  30.24  2343912425577   \n",
       "2  Port Samanthamouth  2018-02-24 04:29:00  33.44  2005065760003   \n",
       "3          Rodneyfort  2018-02-10 23:22:03  23.44  5149245426178   \n",
       "4          South Jack  2018-03-06 04:28:35  34.58  3908451377344   \n",
       "\n",
       "   driver_count   type  \n",
       "0             5  Urban  \n",
       "1            72  Urban  \n",
       "2            57  Urban  \n",
       "3            34  Urban  \n",
       "4            46  Urban  "
      ]
     },
     "execution_count": 2,
     "metadata": {},
     "output_type": "execute_result"
    }
   ],
   "source": [
    "urban_rides_df = combined_df.loc[combined_df[\"type\"] == \"Urban\"]\n",
    "suburban_rides_df = combined_df.loc[combined_df[\"type\"] == \"Suburban\"]\n",
    "rural_rides_df = combined_df.loc[combined_df[\"type\"] == \"Rural\"]\n",
    "\n",
    "urban_rides_df.head()"
   ]
  },
  {
   "cell_type": "code",
   "execution_count": 3,
   "metadata": {},
   "outputs": [
    {
     "data": {
      "text/html": [
       "<div>\n",
       "<style scoped>\n",
       "    .dataframe tbody tr th:only-of-type {\n",
       "        vertical-align: middle;\n",
       "    }\n",
       "\n",
       "    .dataframe tbody tr th {\n",
       "        vertical-align: top;\n",
       "    }\n",
       "\n",
       "    .dataframe thead th {\n",
       "        text-align: right;\n",
       "    }\n",
       "</style>\n",
       "<table border=\"1\" class=\"dataframe\">\n",
       "  <thead>\n",
       "    <tr style=\"text-align: right;\">\n",
       "      <th></th>\n",
       "      <th>Total Fare</th>\n",
       "      <th>Total Rides</th>\n",
       "      <th>Avg Fare</th>\n",
       "      <th>Driver Count</th>\n",
       "    </tr>\n",
       "  </thead>\n",
       "  <tbody>\n",
       "    <tr>\n",
       "      <th>Amandaburgh</th>\n",
       "      <td>443.55</td>\n",
       "      <td>18</td>\n",
       "      <td>24.641667</td>\n",
       "      <td>12</td>\n",
       "    </tr>\n",
       "    <tr>\n",
       "      <th>Barajasview</th>\n",
       "      <td>557.31</td>\n",
       "      <td>22</td>\n",
       "      <td>25.332273</td>\n",
       "      <td>26</td>\n",
       "    </tr>\n",
       "    <tr>\n",
       "      <th>Carriemouth</th>\n",
       "      <td>764.49</td>\n",
       "      <td>27</td>\n",
       "      <td>28.314444</td>\n",
       "      <td>52</td>\n",
       "    </tr>\n",
       "    <tr>\n",
       "      <th>Christopherfurt</th>\n",
       "      <td>661.55</td>\n",
       "      <td>27</td>\n",
       "      <td>24.501852</td>\n",
       "      <td>41</td>\n",
       "    </tr>\n",
       "    <tr>\n",
       "      <th>Deanville</th>\n",
       "      <td>491.01</td>\n",
       "      <td>19</td>\n",
       "      <td>25.842632</td>\n",
       "      <td>49</td>\n",
       "    </tr>\n",
       "  </tbody>\n",
       "</table>\n",
       "</div>"
      ],
      "text/plain": [
       "                 Total Fare  Total Rides   Avg Fare  Driver Count\n",
       "Amandaburgh          443.55           18  24.641667            12\n",
       "Barajasview          557.31           22  25.332273            26\n",
       "Carriemouth          764.49           27  28.314444            52\n",
       "Christopherfurt      661.55           27  24.501852            41\n",
       "Deanville            491.01           19  25.842632            49"
      ]
     },
     "execution_count": 3,
     "metadata": {},
     "output_type": "execute_result"
    }
   ],
   "source": [
    "#calculations for urban\n",
    "\n",
    "urban_group =  urban_rides_df.groupby([\"city\"])\n",
    "\n",
    "total_fare = urban_group[\"fare\"].sum()\n",
    "total_rides = urban_rides_df[\"city\"].value_counts()\n",
    "avg_fare = total_fare / total_rides\n",
    "driver_count = urban_group[\"driver_count\"].mean()\n",
    "\n",
    "sum_urban = pd.DataFrame({\n",
    "    \"Total Fare\": total_fare,\n",
    "    \"Total Rides\": total_rides,\n",
    "    \"Avg Fare\": avg_fare,\n",
    "    \"Driver Count\": driver_count\n",
    "})\n",
    "\n",
    "sum_urban.head()"
   ]
  },
  {
   "cell_type": "code",
   "execution_count": 4,
   "metadata": {},
   "outputs": [
    {
     "data": {
      "text/html": [
       "<div>\n",
       "<style scoped>\n",
       "    .dataframe tbody tr th:only-of-type {\n",
       "        vertical-align: middle;\n",
       "    }\n",
       "\n",
       "    .dataframe tbody tr th {\n",
       "        vertical-align: top;\n",
       "    }\n",
       "\n",
       "    .dataframe thead th {\n",
       "        text-align: right;\n",
       "    }\n",
       "</style>\n",
       "<table border=\"1\" class=\"dataframe\">\n",
       "  <thead>\n",
       "    <tr style=\"text-align: right;\">\n",
       "      <th></th>\n",
       "      <th>Total Fare</th>\n",
       "      <th>Total Rides</th>\n",
       "      <th>Avg Fare</th>\n",
       "      <th>Driver Count</th>\n",
       "    </tr>\n",
       "  </thead>\n",
       "  <tbody>\n",
       "    <tr>\n",
       "      <th>Barronchester</th>\n",
       "      <td>582.76</td>\n",
       "      <td>16</td>\n",
       "      <td>36.422500</td>\n",
       "      <td>11</td>\n",
       "    </tr>\n",
       "    <tr>\n",
       "      <th>Bethanyland</th>\n",
       "      <td>593.21</td>\n",
       "      <td>18</td>\n",
       "      <td>32.956111</td>\n",
       "      <td>22</td>\n",
       "    </tr>\n",
       "    <tr>\n",
       "      <th>Brandonfort</th>\n",
       "      <td>673.31</td>\n",
       "      <td>19</td>\n",
       "      <td>35.437368</td>\n",
       "      <td>10</td>\n",
       "    </tr>\n",
       "    <tr>\n",
       "      <th>Colemanland</th>\n",
       "      <td>679.68</td>\n",
       "      <td>22</td>\n",
       "      <td>30.894545</td>\n",
       "      <td>23</td>\n",
       "    </tr>\n",
       "    <tr>\n",
       "      <th>Davidfurt</th>\n",
       "      <td>543.93</td>\n",
       "      <td>17</td>\n",
       "      <td>31.995882</td>\n",
       "      <td>23</td>\n",
       "    </tr>\n",
       "  </tbody>\n",
       "</table>\n",
       "</div>"
      ],
      "text/plain": [
       "               Total Fare  Total Rides   Avg Fare  Driver Count\n",
       "Barronchester      582.76           16  36.422500            11\n",
       "Bethanyland        593.21           18  32.956111            22\n",
       "Brandonfort        673.31           19  35.437368            10\n",
       "Colemanland        679.68           22  30.894545            23\n",
       "Davidfurt          543.93           17  31.995882            23"
      ]
     },
     "execution_count": 4,
     "metadata": {},
     "output_type": "execute_result"
    }
   ],
   "source": [
    "#calculations for suburban\n",
    "\n",
    "suburban_group =  suburban_rides_df.groupby([\"city\"])\n",
    "\n",
    "total_fare = suburban_group[\"fare\"].sum()\n",
    "total_rides = suburban_rides_df[\"city\"].value_counts()\n",
    "avg_fare = total_fare / total_rides\n",
    "driver_count = suburban_group[\"driver_count\"].mean()\n",
    "\n",
    "sum_suburban = pd.DataFrame({\n",
    "    \"Total Fare\": total_fare,\n",
    "    \"Total Rides\": total_rides,\n",
    "    \"Avg Fare\": avg_fare,\n",
    "    \"Driver Count\": driver_count\n",
    "})\n",
    "\n",
    "sum_suburban.head()"
   ]
  },
  {
   "cell_type": "code",
   "execution_count": 5,
   "metadata": {},
   "outputs": [
    {
     "data": {
      "text/html": [
       "<div>\n",
       "<style scoped>\n",
       "    .dataframe tbody tr th:only-of-type {\n",
       "        vertical-align: middle;\n",
       "    }\n",
       "\n",
       "    .dataframe tbody tr th {\n",
       "        vertical-align: top;\n",
       "    }\n",
       "\n",
       "    .dataframe thead th {\n",
       "        text-align: right;\n",
       "    }\n",
       "</style>\n",
       "<table border=\"1\" class=\"dataframe\">\n",
       "  <thead>\n",
       "    <tr style=\"text-align: right;\">\n",
       "      <th></th>\n",
       "      <th>Total Fare</th>\n",
       "      <th>Total Rides</th>\n",
       "      <th>Avg Fare</th>\n",
       "      <th>Driver Count</th>\n",
       "    </tr>\n",
       "  </thead>\n",
       "  <tbody>\n",
       "    <tr>\n",
       "      <th>Bradshawfurt</th>\n",
       "      <td>400.64</td>\n",
       "      <td>10</td>\n",
       "      <td>40.064000</td>\n",
       "      <td>7</td>\n",
       "    </tr>\n",
       "    <tr>\n",
       "      <th>Garzaport</th>\n",
       "      <td>72.37</td>\n",
       "      <td>3</td>\n",
       "      <td>24.123333</td>\n",
       "      <td>7</td>\n",
       "    </tr>\n",
       "    <tr>\n",
       "      <th>Harringtonfort</th>\n",
       "      <td>200.82</td>\n",
       "      <td>6</td>\n",
       "      <td>33.470000</td>\n",
       "      <td>4</td>\n",
       "    </tr>\n",
       "    <tr>\n",
       "      <th>Jessicaport</th>\n",
       "      <td>216.08</td>\n",
       "      <td>6</td>\n",
       "      <td>36.013333</td>\n",
       "      <td>1</td>\n",
       "    </tr>\n",
       "    <tr>\n",
       "      <th>Lake Jamie</th>\n",
       "      <td>206.15</td>\n",
       "      <td>6</td>\n",
       "      <td>34.358333</td>\n",
       "      <td>4</td>\n",
       "    </tr>\n",
       "  </tbody>\n",
       "</table>\n",
       "</div>"
      ],
      "text/plain": [
       "                Total Fare  Total Rides   Avg Fare  Driver Count\n",
       "Bradshawfurt        400.64           10  40.064000             7\n",
       "Garzaport            72.37            3  24.123333             7\n",
       "Harringtonfort      200.82            6  33.470000             4\n",
       "Jessicaport         216.08            6  36.013333             1\n",
       "Lake Jamie          206.15            6  34.358333             4"
      ]
     },
     "execution_count": 5,
     "metadata": {},
     "output_type": "execute_result"
    }
   ],
   "source": [
    "#calculations for rural\n",
    "\n",
    "rural_group =  rural_rides_df.groupby([\"city\"])\n",
    "\n",
    "total_fare = rural_group[\"fare\"].sum()\n",
    "total_rides = rural_rides_df[\"city\"].value_counts()\n",
    "avg_fare = total_fare / total_rides\n",
    "driver_count = rural_group[\"driver_count\"].mean()\n",
    "\n",
    "sum_rural = pd.DataFrame({\n",
    "    \"Total Fare\": total_fare,\n",
    "    \"Total Rides\": total_rides,\n",
    "    \"Avg Fare\": avg_fare,\n",
    "    \"Driver Count\": driver_count\n",
    "})\n",
    "\n",
    "sum_rural.head()"
   ]
  },
  {
   "cell_type": "markdown",
   "metadata": {},
   "source": [
    "## Bubble Plot of Ride Sharing Data"
   ]
  },
  {
   "cell_type": "code",
   "execution_count": 51,
   "metadata": {},
   "outputs": [
    {
     "data": {
      "image/png": "[encoded data removed]",
      "text/plain": [
       "<Figure size 432x288 with 1 Axes>"
      ]
     },
     "metadata": {
      "needs_background": "light"
     },
     "output_type": "display_data"
    }
   ],
   "source": [
    "# Obtain the x and y coordinates for each of the three city types\n",
    "\n",
    "urban_total_rides = sum_urban[\"Total Rides\"]\n",
    "urban_avg_fare = sum_urban[\"Avg Fare\"]\n",
    "urban_driver_count =  urban_group[\"driver_count\"].mean()\n",
    "\n",
    "suburban_total_rides = sum_suburban[\"Total Rides\"]\n",
    "suburban_avg_fare = sum_suburban[\"Avg Fare\"]\n",
    "suburban_driver_count = sum_suburban[\"Driver Count\"]\n",
    "\n",
    "rural_total_rides = sum_rural[\"Total Rides\"]\n",
    "rural_avg_fare = sum_rural[\"Avg Fare\"]\n",
    "rural_driver_count = sum_rural[\"Driver Count\"]\n",
    "\n",
    "\n",
    "# Build the scatter plots for each city types\n",
    "\n",
    "plt.scatter(urban_total_rides, urban_avg_fare,\n",
    "            marker=\"o\", facecolors=\"coral\", edgecolors=\"black\",\n",
    "           alpha=0.75, s=urban_driver_count, label=\"Urban\")\n",
    "\n",
    "plt.scatter(suburban_total_rides, suburban_avg_fare,\n",
    "            marker=\"o\", facecolors=\"lightskyblue\", edgecolors=\"black\",\n",
    "           alpha=0.75, s=suburban_driver_count, label=\"Suburban\")\n",
    "\n",
    "plt.scatter(rural_total_rides, rural_avg_fare,\n",
    "            marker=\"o\", facecolors=\"gold\", edgecolors=\"black\",\n",
    "           alpha=0.75, s=rural_driver_count, label=\"Rural\")\n",
    "\n",
    "\n",
    "# Incorporate the other graph properties\n",
    "plt.grid()\n",
    "plt.title(\"Pyber Ride Sharing Data (2016)\")\n",
    "plt.xlabel(\"Total Number of Rides (Per City)\")\n",
    "plt.ylabel(\"Average Fares ($)\")\n",
    "\n",
    "# Create a legend\n",
    "labels = [\"Urban\", \"Suburban\", \"Rural\"]\n",
    "\n",
    "plt.legend(labels, title=\"City Types\", loc=\"best\", fancybox=True, scatterpoints=1)\n",
    "\n",
    "# Incorporate a text label regarding circle size\n",
    "plt.text(42, 40, 'Note:') \n",
    "plt.text(42, 38, 'Circle size correlates with driver count per city.')\n",
    "\n",
    "# Save Figure\n",
    "plt.savefig(\"Images/pyber_bubble_plot.png\")"
   ]
  },
  {
   "cell_type": "code",
   "execution_count": 7,
   "metadata": {},
   "outputs": [],
   "source": [
    "# Show plot\n",
    "plt.show()\n"
   ]
  },
  {
   "cell_type": "markdown",
   "metadata": {},
   "source": [
    "## Total Fares by City Type"
   ]
  },
  {
   "cell_type": "code",
   "execution_count": 25,
   "metadata": {},
   "outputs": [
    {
     "data": {
      "image/png": "[encoded data removed]",
      "text/plain": [
       "<Figure size 432x288 with 1 Axes>"
      ]
     },
     "metadata": {},
     "output_type": "display_data"
    }
   ],
   "source": [
    "# Calculate Type Percents\n",
    "city_type = [\"Urban\", \"Suburban\", \"Rural\"]\n",
    "urban_percent = urban_rides_df[\"fare\"].sum() / combined_df[\"fare\"].sum()\n",
    "suburban_percent = suburban_rides_df[\"fare\"].sum() / combined_df[\"fare\"].sum()\n",
    "rural_percent = rural_rides_df[\"fare\"].sum() / combined_df[\"fare\"].sum()\n",
    "\n",
    "percent_fares = [urban_percent, rural_percent, suburban_percent]\n",
    "\n",
    "# Build Pie Chart\n",
    "\n",
    "types = [\"Urban\", \"Rural\", \"Suburban\"]\n",
    "colors= [\"lightcoral\",\"gold\", \"lightskyblue\"]\n",
    "explode = (0.12, 0, 0)\n",
    "\n",
    "plt.title(\"% of Total Fares by City Type\")\n",
    "plt.pie(percent_fares, explode=explode, labels=types, colors=colors,\n",
    "       autopct=\"%1.1f%%\", shadow=True, startangle=-90)\n",
    "plt.axis(\"equal\")\n",
    "\n",
    "# Save Figure\n",
    "plt.savefig(\"Images/pyber_pie_total_fares.png\")"
   ]
  },
  {
   "cell_type": "code",
   "execution_count": 9,
   "metadata": {},
   "outputs": [],
   "source": [
    "# Show Figure\n",
    "plt.show()\n"
   ]
  },
  {
   "cell_type": "markdown",
   "metadata": {},
   "source": [
    "## Total Rides by City Type"
   ]
  },
  {
   "cell_type": "code",
   "execution_count": 19,
   "metadata": {},
   "outputs": [
    {
     "data": {
      "image/png": "[encoded data removed]",
      "text/plain": [
       "<Figure size 432x288 with 1 Axes>"
      ]
     },
     "metadata": {},
     "output_type": "display_data"
    }
   ],
   "source": [
    "# Calculate Ride Percents\n",
    "\n",
    "city_type = [\"Urban\", \"Suburban\", \"Rural\"]\n",
    "urban_percent = sum_urban[\"Total Rides\"].sum() / combined_df[\"city\"].value_counts().sum()\n",
    "suburban_percent = sum_suburban[\"Total Rides\"].sum() / combined_df[\"city\"].value_counts().sum()\n",
    "rural_percent = sum_rural[\"Total Rides\"].sum() / combined_df[\"city\"].value_counts().sum()\n",
    "\n",
    "percent_fares = [urban_percent, rural_percent, suburban_percent]\n",
    "\n",
    "# Build Pie Chart\n",
    "\n",
    "types = [\"Urban\", \"Rural\", \"Suburban\"]\n",
    "colors= [\"lightcoral\",\"gold\", \"lightskyblue\"]\n",
    "explode = (0.12, 0, 0)\n",
    "\n",
    "plt.title(\"% of Total Rides by City Type\")\n",
    "plt.pie(percent_fares, explode=explode, labels=types, colors=colors,\n",
    "       autopct=\"%1.1f%%\", shadow=True, startangle=240)\n",
    "\n",
    "# Save Figure\n",
    "plt.savefig(\"Images/pyber_pie_total_rides.png\")"
   ]
  },
  {
   "cell_type": "code",
   "execution_count": 11,
   "metadata": {},
   "outputs": [],
   "source": [
    "# Show Figure\n",
    "plt.show()\n"
   ]
  },
  {
   "cell_type": "markdown",
   "metadata": {},
   "source": [
    "## Total Drivers by City Type"
   ]
  },
  {
   "cell_type": "code",
   "execution_count": 27,
   "metadata": {},
   "outputs": [
    {
     "data": {
      "image/png": "[encoded data removed]",
      "text/plain": [
       "<Figure size 432x288 with 1 Axes>"
      ]
     },
     "metadata": {},
     "output_type": "display_data"
    }
   ],
   "source": [
    "# Calculate Driver Percents\n",
    "\n",
    "city_type = [\"Urban\", \"Suburban\", \"Rural\"]\n",
    "urban_percent = sum_urban[\"Driver Count\"].sum() / combined_df[\"city\"].value_counts().sum()\n",
    "suburban_percent = sum_suburban[\"Driver Count\"].sum() / combined_df[\"city\"].value_counts().sum()\n",
    "rural_percent = sum_rural[\"Driver Count\"].sum() / combined_df[\"city\"].value_counts().sum()\n",
    "\n",
    "percent_fares = [urban_percent, rural_percent, suburban_percent]\n",
    "\n",
    "# Build Pie Chart\n",
    "\n",
    "types = [\"Urban\", \"Rural\", \"Suburban\"]\n",
    "colors= [\"lightcoral\",\"gold\", \"lightskyblue\"]\n",
    "explode = (0.12, 0, 0)\n",
    "\n",
    "plt.title(\"% of Total Drivers by City Type\")\n",
    "plt.pie(percent_fares, explode=explode, labels=types, colors=colors,\n",
    "       autopct=\"%1.1f%%\", shadow=True, startangle=240)\n",
    "\n",
    "# Save Figure\n",
    "plt.savefig(\"Images/pyber_pie_total_rides.png\")"
   ]
  },
  {
   "cell_type": "code",
   "execution_count": 13,
   "metadata": {
    "scrolled": true
   },
   "outputs": [],
   "source": [
    "# Show Figure\n",
    "plt.show()\n"
   ]
  }
 ],
 "metadata": {
  "anaconda-cloud": {},
  "kernelspec": {
   "display_name": "Python 3",
   "language": "python",
   "name": "python3"
  },
  "language_info": {
   "codemirror_mode": {
    "name": "ipython",
    "version": 3
   },
   "file_extension": ".py",
   "mimetype": "text/x-python",
   "name": "python",
   "nbconvert_exporter": "python",
   "pygments_lexer": "ipython3",
   "version": "3.7.1"
  }
 },
 "nbformat": 4,
 "nbformat_minor": 2
}
